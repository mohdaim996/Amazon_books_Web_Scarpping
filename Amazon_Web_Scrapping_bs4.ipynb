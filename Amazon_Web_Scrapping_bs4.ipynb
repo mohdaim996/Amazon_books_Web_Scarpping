{
  "nbformat": 4,
  "nbformat_minor": 0,
  "metadata": {
    "colab": {
      "name": "Untitled1.ipynb",
      "provenance": [],
      "collapsed_sections": []
    },
    "kernelspec": {
      "name": "python3",
      "display_name": "Python 3"
    },
    "language_info": {
      "name": "python"
    }
  },
  "cells": [
    {
      "cell_type": "code",
      "metadata": {
        "id": "erNzQZ0-C9Ty"
      },
      "source": [
        "from bs4 import BeautifulSoup\n",
        "import requests\n",
        "import pandas as pd"
      ],
      "execution_count": 2,
      "outputs": []
    },
    {
      "cell_type": "code",
      "metadata": {
        "colab": {
          "base_uri": "https://localhost:8080/"
        },
        "id": "7JfRyHsrDG3Y",
        "outputId": "134e4480-53f3-4ce3-dde4-58f0003786d2"
      },
      "source": [
        "resp = requests.get('https://www.amazon.in/gp/bestsellers/books')\n",
        "resp.status_code"
      ],
      "execution_count": 3,
      "outputs": [
        {
          "output_type": "execute_result",
          "data": {
            "text/plain": [
              "200"
            ]
          },
          "metadata": {},
          "execution_count": 3
        }
      ]
    },
    {
      "cell_type": "code",
      "metadata": {
        "id": "ASPdAF4jECAG"
      },
      "source": [
        "resp = BeautifulSoup(resp.content,'lxml')"
      ],
      "execution_count": 4,
      "outputs": []
    },
    {
      "cell_type": "code",
      "metadata": {
        "id": "g5PGTsghEY6J"
      },
      "source": [
        "div= resp.find_all(['div','span','a'])\n",
        "\n",
        "books = {'title':[],'author':[],'price':[],'rating':[],'type':[]}\n",
        "\n",
        "for e in div:\n",
        "    cls = e.get('class')\n",
        "    if cls and cls[0] == 'p13n-sc-truncate':   \n",
        "      books['title'].append(e.text.strip())\n",
        "    if cls and cls == ['a-size-small', 'a-link-child'] or cls == ['a-size-small', 'a-color-base']:\n",
        "      books['author'].append(e.text)\n",
        "    if cls and cls[0] == 'p13n-sc-price':\n",
        "      books['price'].append(e.text.strip())\n",
        "    if cls and cls[0] == 'a-icon-alt':\n",
        "      books['rating'].append(e.text.strip()[0:3])\n",
        "    if cls and cls == ['a-size-small', 'a-color-secondary']:\n",
        "      books['type'].append(e.text.strip())\n",
        "\n"
      ],
      "execution_count": 5,
      "outputs": []
    },
    {
      "cell_type": "code",
      "metadata": {
        "colab": {
          "base_uri": "https://localhost:8080/"
        },
        "id": "s2VrMzgMYUF1",
        "outputId": "97df73e9-831e-4595-a1ea-772ba957812a"
      },
      "source": [
        "df = pd.DataFrame(books)\n",
        "df.price = df.price.replace('₹','', regex=True).astype('float')\n",
        "df.rating = df.rating.astype('float')\n"
      ],
      "execution_count": 23,
      "outputs": [
        {
          "output_type": "stream",
          "name": "stdout",
          "text": [
            "<class 'pandas.core.frame.DataFrame'>\n",
            "RangeIndex: 50 entries, 0 to 49\n",
            "Data columns (total 5 columns):\n",
            " #   Column  Non-Null Count  Dtype  \n",
            "---  ------  --------------  -----  \n",
            " 0   title   50 non-null     object \n",
            " 1   author  50 non-null     object \n",
            " 2   price   50 non-null     float64\n",
            " 3   rating  50 non-null     float64\n",
            " 4   type    50 non-null     object \n",
            "dtypes: float64(2), object(3)\n",
            "memory usage: 2.1+ KB\n"
          ]
        }
      ]
    }
  ]
}
